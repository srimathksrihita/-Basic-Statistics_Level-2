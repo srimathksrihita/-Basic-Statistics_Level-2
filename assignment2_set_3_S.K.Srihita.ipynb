{
 "cells": [
  {
   "cell_type": "markdown",
   "id": "00ffe380",
   "metadata": {},
   "source": [
    "# Q5"
   ]
  },
  {
   "cell_type": "code",
   "execution_count": 7,
   "id": "5732ee75",
   "metadata": {},
   "outputs": [],
   "source": [
    "import numpy as np\n",
    "import pandas as pd\n",
    "from scipy import stats\n",
    "from scipy.stats import norm"
   ]
  },
  {
   "cell_type": "code",
   "execution_count": null,
   "id": "c3bbcb5e",
   "metadata": {},
   "outputs": [],
   "source": [
    "#z_score=(p*-p)/sqrt(p(1-p)/n)\n",
    "#p*=4.6% = 0.046\n",
    "#p = 5%  = 0.05\n",
    "#n = 2000"
   ]
  },
  {
   "cell_type": "code",
   "execution_count": 8,
   "id": "17885f92",
   "metadata": {},
   "outputs": [],
   "source": [
    "z_score=(0.046-0.05)/(np.sqrt((0.05*(1-0.05))/2000))"
   ]
  },
  {
   "cell_type": "code",
   "execution_count": 9,
   "id": "d930dc06",
   "metadata": {},
   "outputs": [
    {
     "data": {
      "text/plain": [
       "-0.820782681668124"
      ]
     },
     "execution_count": 9,
     "metadata": {},
     "output_type": "execute_result"
    }
   ],
   "source": [
    "z_score"
   ]
  },
  {
   "cell_type": "code",
   "execution_count": 10,
   "id": "2420c4af",
   "metadata": {},
   "outputs": [],
   "source": [
    "p_value=1-stats.norm.cdf(abs(z_score))"
   ]
  },
  {
   "cell_type": "code",
   "execution_count": 11,
   "id": "ed0f3712",
   "metadata": {},
   "outputs": [
    {
     "data": {
      "text/plain": [
       "0.20588503245107104"
      ]
     },
     "execution_count": 11,
     "metadata": {},
     "output_type": "execute_result"
    }
   ],
   "source": [
    "p_value"
   ]
  }
 ],
 "metadata": {
  "kernelspec": {
   "display_name": "Python 3 (ipykernel)",
   "language": "python",
   "name": "python3"
  },
  "language_info": {
   "codemirror_mode": {
    "name": "ipython",
    "version": 3
   },
   "file_extension": ".py",
   "mimetype": "text/x-python",
   "name": "python",
   "nbconvert_exporter": "python",
   "pygments_lexer": "ipython3",
   "version": "3.9.12"
  }
 },
 "nbformat": 4,
 "nbformat_minor": 5
}
