{
 "cells": [
  {
   "cell_type": "markdown",
   "id": "43364d1a",
   "metadata": {},
   "source": [
    "# Q1"
   ]
  },
  {
   "cell_type": "code",
   "execution_count": 2,
   "id": "217c4dd8",
   "metadata": {},
   "outputs": [],
   "source": [
    "import pandas as pd\n",
    "import numpy as np\n",
    "import matplotlib.pyplot as plt\n",
    "import seaborn as sns\n",
    "from scipy import stats\n",
    "from scipy.stats import norm"
   ]
  },
  {
   "cell_type": "code",
   "execution_count": 3,
   "id": "1eb32886",
   "metadata": {},
   "outputs": [],
   "source": [
    "mean=55\n",
    "std=8\n",
    "q=1-stats.norm.cdf(60,loc=mean,scale=std)"
   ]
  },
  {
   "cell_type": "code",
   "execution_count": 4,
   "id": "e1730a7c",
   "metadata": {},
   "outputs": [
    {
     "data": {
      "text/plain": [
       "0.26599"
      ]
     },
     "execution_count": 4,
     "metadata": {},
     "output_type": "execute_result"
    }
   ],
   "source": [
    "np.round(q,5)"
   ]
  },
  {
   "cell_type": "markdown",
   "id": "08244fb4",
   "metadata": {},
   "source": [
    "# Q2"
   ]
  },
  {
   "cell_type": "code",
   "execution_count": 5,
   "id": "93f83ef8",
   "metadata": {},
   "outputs": [
    {
     "data": {
      "text/plain": [
       "0.1587"
      ]
     },
     "execution_count": 5,
     "metadata": {},
     "output_type": "execute_result"
    }
   ],
   "source": [
    "n=400\n",
    "mean=38\n",
    "std=6\n",
    "#for greater than 44yrs\n",
    "q1=1-stats.norm.cdf(44,loc=mean,scale=std)\n",
    "np.round(q1,4)"
   ]
  },
  {
   "cell_type": "code",
   "execution_count": 6,
   "id": "e15dfcb1",
   "metadata": {},
   "outputs": [
    {
     "data": {
      "text/plain": [
       "0.34134"
      ]
     },
     "execution_count": 6,
     "metadata": {},
     "output_type": "execute_result"
    }
   ],
   "source": [
    "#for employees between 38 to 44 yrs\n",
    "q2=stats.norm.cdf(44,loc=mean,scale=std)-stats.norm.cdf(38,loc=mean,scale=std)\n",
    "np.round(q2,5)"
   ]
  },
  {
   "cell_type": "code",
   "execution_count": 7,
   "id": "51e39e07",
   "metadata": {},
   "outputs": [
    {
     "name": "stdout",
     "output_type": "stream",
     "text": [
      "0.09121121972586788\n"
     ]
    }
   ],
   "source": [
    "# for employees under 30 yrs\n",
    "print(stats.norm.cdf(30,loc=mean,scale=std))"
   ]
  },
  {
   "cell_type": "code",
   "execution_count": 8,
   "id": "117411dc",
   "metadata": {},
   "outputs": [
    {
     "name": "stdout",
     "output_type": "stream",
     "text": [
      "36.484487890347154\n"
     ]
    }
   ],
   "source": [
    "#number of employees attending training program of 400 \n",
    "print(400*stats.norm.cdf(30,loc=mean,scale=std))"
   ]
  },
  {
   "cell_type": "code",
   "execution_count": null,
   "id": "a4ef485b",
   "metadata": {},
   "outputs": [],
   "source": []
  },
  {
   "cell_type": "markdown",
   "id": "c246475a",
   "metadata": {},
   "source": [
    "# Q4"
   ]
  },
  {
   "cell_type": "code",
   "execution_count": 9,
   "id": "d404594f",
   "metadata": {},
   "outputs": [
    {
     "name": "stdout",
     "output_type": "stream",
     "text": [
      "[ 48.5 151.5]\n"
     ]
    }
   ],
   "source": [
    "mean=100\n",
    "std=20\n",
    "print(np.round(stats.norm.interval(0.99,loc=mean,scale=std),1))\n"
   ]
  },
  {
   "cell_type": "code",
   "execution_count": null,
   "id": "abc415c6",
   "metadata": {},
   "outputs": [],
   "source": []
  },
  {
   "cell_type": "markdown",
   "id": "86352f9e",
   "metadata": {},
   "source": [
    "# Q5"
   ]
  },
  {
   "cell_type": "code",
   "execution_count": 10,
   "id": "dd88a192",
   "metadata": {},
   "outputs": [],
   "source": [
    "mean1 = 5\n",
    "mean2=7\n",
    "std1=3\n",
    "std2=4"
   ]
  },
  {
   "cell_type": "code",
   "execution_count": 11,
   "id": "1a270812",
   "metadata": {},
   "outputs": [],
   "source": [
    "mean=(mean1+mean2)\n",
    "std=np.sqrt(std1+std2)"
   ]
  },
  {
   "cell_type": "code",
   "execution_count": 12,
   "id": "45a675b6",
   "metadata": {},
   "outputs": [
    {
     "name": "stdout",
     "output_type": "stream",
     "text": [
      "11.905880899790658\n",
      "12\n"
     ]
    }
   ],
   "source": [
    "print((std*45)/10)\n",
    "print(mean)"
   ]
  },
  {
   "cell_type": "code",
   "execution_count": 13,
   "id": "36ca1e92",
   "metadata": {},
   "outputs": [
    {
     "name": "stdout",
     "output_type": "stream",
     "text": [
      "30.645\n",
      "77.355\n"
     ]
    }
   ],
   "source": [
    "r1, r2 = np.round(stats.norm.interval(0.95, loc=mean, scale= std),2)\n",
    "print((r1*45)/10) \n",
    "print((r2*45)/10)"
   ]
  },
  {
   "cell_type": "code",
   "execution_count": null,
   "id": "2071f28f",
   "metadata": {},
   "outputs": [],
   "source": []
  },
  {
   "cell_type": "code",
   "execution_count": 14,
   "id": "5908d8c8",
   "metadata": {},
   "outputs": [
    {
     "data": {
      "text/plain": [
       "34.42"
      ]
     },
     "execution_count": 14,
     "metadata": {},
     "output_type": "execute_result"
    }
   ],
   "source": [
    "z=stats.norm.ppf(0.05)\n",
    "np.round((z*std+mean)*4.5,2)"
   ]
  },
  {
   "cell_type": "code",
   "execution_count": null,
   "id": "dbdd2605",
   "metadata": {},
   "outputs": [],
   "source": []
  },
  {
   "cell_type": "code",
   "execution_count": 15,
   "id": "df6096fa",
   "metadata": {},
   "outputs": [
    {
     "name": "stdout",
     "output_type": "stream",
     "text": [
      "div1 has larger probability of making loss\n"
     ]
    }
   ],
   "source": [
    "div1=np.round((stats.norm.cdf(0,loc=mean1,scale=std1))*100,2)\n",
    "div2=np.round((stats.norm.cdf(0,loc=mean2,scale=std2))*100,2)\n",
    "if div1>div2:\n",
    "    print(\"div1 has larger probability of making loss\")\n",
    "else:\n",
    "    print(\"div2 has larger probability of making loss\")\n"
   ]
  },
  {
   "cell_type": "code",
   "execution_count": 16,
   "id": "d3aba885",
   "metadata": {},
   "outputs": [
    {
     "data": {
      "text/plain": [
       "4.78"
      ]
     },
     "execution_count": 16,
     "metadata": {},
     "output_type": "execute_result"
    }
   ],
   "source": [
    "div1"
   ]
  },
  {
   "cell_type": "code",
   "execution_count": 17,
   "id": "37cb072b",
   "metadata": {},
   "outputs": [
    {
     "data": {
      "text/plain": [
       "4.01"
      ]
     },
     "execution_count": 17,
     "metadata": {},
     "output_type": "execute_result"
    }
   ],
   "source": [
    "div2"
   ]
  },
  {
   "cell_type": "code",
   "execution_count": null,
   "id": "c9fcd009",
   "metadata": {},
   "outputs": [],
   "source": []
  }
 ],
 "metadata": {
  "kernelspec": {
   "display_name": "Python 3 (ipykernel)",
   "language": "python",
   "name": "python3"
  },
  "language_info": {
   "codemirror_mode": {
    "name": "ipython",
    "version": 3
   },
   "file_extension": ".py",
   "mimetype": "text/x-python",
   "name": "python",
   "nbconvert_exporter": "python",
   "pygments_lexer": "ipython3",
   "version": "3.9.12"
  }
 },
 "nbformat": 4,
 "nbformat_minor": 5
}
