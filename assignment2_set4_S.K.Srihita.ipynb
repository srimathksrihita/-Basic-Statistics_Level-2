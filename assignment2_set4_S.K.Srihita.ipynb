{
 "cells": [
  {
   "cell_type": "code",
   "execution_count": 1,
   "id": "ff8b75e3",
   "metadata": {},
   "outputs": [],
   "source": [
    "import numpy as np\n",
    "import pandas as pd\n",
    "from scipy import stats\n",
    "from scipy.stats import norm"
   ]
  },
  {
   "cell_type": "code",
   "execution_count": 2,
   "id": "650fda93",
   "metadata": {},
   "outputs": [],
   "source": [
    "mean=50\n",
    "std=40\n",
    "n=100"
   ]
  },
  {
   "cell_type": "code",
   "execution_count": 24,
   "id": "84585ddd",
   "metadata": {},
   "outputs": [],
   "source": [
    "z1=(45-50)/(40/np.sqrt(100))\n",
    "z2=(55-50)/(40/np.sqrt(100))"
   ]
  },
  {
   "cell_type": "code",
   "execution_count": 25,
   "id": "00fc6d9a",
   "metadata": {},
   "outputs": [],
   "source": [
    "a=stats.norm.cdf(z1)\n",
    "b=stats.norm.cdf(z2)"
   ]
  },
  {
   "cell_type": "code",
   "execution_count": 27,
   "id": "20eebdfa",
   "metadata": {},
   "outputs": [
    {
     "data": {
      "text/plain": [
       "0.7887004526662893"
      ]
     },
     "execution_count": 27,
     "metadata": {},
     "output_type": "execute_result"
    }
   ],
   "source": [
    "b-a"
   ]
  },
  {
   "cell_type": "code",
   "execution_count": 28,
   "id": "2ea8a33e",
   "metadata": {},
   "outputs": [
    {
     "data": {
      "text/plain": [
       "(45.0, 55.0)"
      ]
     },
     "execution_count": 28,
     "metadata": {},
     "output_type": "execute_result"
    }
   ],
   "source": [
    "stats.norm.interval((b-a),loc=mean,scale=std/np.sqrt(100))"
   ]
  },
  {
   "cell_type": "code",
   "execution_count": 30,
   "id": "9889463c",
   "metadata": {},
   "outputs": [
    {
     "data": {
      "text/plain": [
       "0.2113"
      ]
     },
     "execution_count": 30,
     "metadata": {},
     "output_type": "execute_result"
    }
   ],
   "source": [
    "np.round((1-(b-a)),4)"
   ]
  },
  {
   "cell_type": "code",
   "execution_count": null,
   "id": "bc7ff1fc",
   "metadata": {},
   "outputs": [],
   "source": []
  },
  {
   "cell_type": "code",
   "execution_count": null,
   "id": "8c0cda50",
   "metadata": {},
   "outputs": [],
   "source": []
  },
  {
   "cell_type": "code",
   "execution_count": null,
   "id": "6d024285",
   "metadata": {},
   "outputs": [],
   "source": []
  }
 ],
 "metadata": {
  "kernelspec": {
   "display_name": "Python 3 (ipykernel)",
   "language": "python",
   "name": "python3"
  },
  "language_info": {
   "codemirror_mode": {
    "name": "ipython",
    "version": 3
   },
   "file_extension": ".py",
   "mimetype": "text/x-python",
   "name": "python",
   "nbconvert_exporter": "python",
   "pygments_lexer": "ipython3",
   "version": "3.9.12"
  }
 },
 "nbformat": 4,
 "nbformat_minor": 5
}
